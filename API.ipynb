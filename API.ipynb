{
 "cells": [
  {
   "cell_type": "markdown",
   "id": "e2b55c54",
   "metadata": {},
   "source": [
    "# Bus Stop & Route Related APIs from data.gov.hk (for Team 6)\n",
    "\n",
    "Below are selected open data APIs relevant to bus stop merge analysis (St. Martin Road / Chong San Road):\n",
    "\n",
    "---\n",
    "\n",
    "## 1. KMB Bus Stop List API\n",
    "- **Endpoint:** https://data.etabus.gov.hk/v1/transport/kmb/bus-stop\n",
    "- **Description:** Returns all KMB bus stops with stop ID, name (Chinese/English), latitude, longitude.\n",
    "- **Key fields:** `stop`, `name_tc`, `name_en`, `lat`, `long`\n",
    "- **Sample:**\n",
    "  ```json\n",
    "  {\n",
    "    \"data\": [\n",
    "      {\"stop\": \"A123\", \"name_tc\": \"聖瑪田路\", \"name_en\": \"St. Martin Road\", \"lat\": 22.468, \"long\": 114.025},\n",
    "      ...\n",
    "    ]\n",
    "  }\n",
    "  ```\n",
    "\n",
    "---\n",
    "\n",
    "## 2. KMB Route List API\n",
    "- **Endpoint:** https://data.etabus.gov.hk/v1/transport/kmb/route\n",
    "- **Description:** Returns all KMB routes, including route number, origin, destination, service type.\n",
    "- **Key fields:** `route`, `orig_tc`, `orig_en`, `dest_tc`, `dest_en`, `service_type`\n",
    "\n",
    "---\n",
    "\n",
    "## 3. KMB Route Stop Sequence API\n",
    "- **Endpoint:** https://data.etabus.gov.hk/v1/transport/kmb/route-stop\n",
    "- **Description:** Returns the ordered list of stops for each route and direction.\n",
    "- **Key fields:** `route`, `bound`, `service_type`, `stop_seq`, `stop`\n",
    "\n",
    "---\n",
    "\n",
    "## 4. Citybus/NWFB Bus Stop List API\n",
    "- **Endpoint:** https://rt.data.gov.hk/v1/transport/citybus-nwfb/stop\n",
    "- **Description:** Returns all Citybus/NWFB stops with stop ID, name, latitude, longitude.\n",
    "- **Key fields:** `stop`, `name_tc`, `name_en`, `lat`, `long`\n",
    "\n",
    "---\n",
    "\n",
    "## 5. Citybus/NWFB Route List API\n",
    "- **Endpoint:** https://rt.data.gov.hk/v1/transport/citybus-nwfb/route\n",
    "- **Description:** Returns all Citybus/NWFB routes, including route number, origin, destination, service type.\n",
    "- **Key fields:** `route`, `orig_tc`, `orig_en`, `dest_tc`, `dest_en`, `service_type`\n",
    "\n",
    "---\n",
    "\n",
    "## Reference\n",
    "- [data.gov.hk Open Data Portal](https://data.gov.hk/en/)\n",
    "- [Citybus API Spec PDF](https://www.citybus.com.hk/datagovhk/bus_eta_api_specifications.pdf)\n",
    "\n",
    "*You can use these endpoints to fetch bus stop and route data for St. Martin Road, Chong San Road, and related analysis.*"
   ]
  },
  {
   "cell_type": "code",
   "execution_count": 1,
   "id": "e246cdb9",
   "metadata": {},
   "outputs": [
    {
     "ename": "HTTPError",
     "evalue": "422 Client Error: Unprocessable Entity for url: https://data.etabus.gov.hk/v1/transport/kmb/bus-stop",
     "output_type": "error",
     "traceback": [
      "\u001b[31m---------------------------------------------------------------------------\u001b[39m",
      "\u001b[31mHTTPError\u001b[39m                                 Traceback (most recent call last)",
      "\u001b[36mCell\u001b[39m\u001b[36m \u001b[39m\u001b[32mIn[1]\u001b[39m\u001b[32m, line 10\u001b[39m\n\u001b[32m      8\u001b[39m \u001b[38;5;66;03m# Fetch data\u001b[39;00m\n\u001b[32m      9\u001b[39m response = requests.get(url)\n\u001b[32m---> \u001b[39m\u001b[32m10\u001b[39m \u001b[43mresponse\u001b[49m\u001b[43m.\u001b[49m\u001b[43mraise_for_status\u001b[49m\u001b[43m(\u001b[49m\u001b[43m)\u001b[49m  \u001b[38;5;66;03m# Raise error if request failed\u001b[39;00m\n\u001b[32m     12\u001b[39m data = response.json()[\u001b[33m\"\u001b[39m\u001b[33mdata\u001b[39m\u001b[33m\"\u001b[39m]\n\u001b[32m     14\u001b[39m \u001b[38;5;66;03m# Convert to DataFrame\u001b[39;00m\n",
      "\u001b[36mFile \u001b[39m\u001b[32m~/.local/lib/python3.12/site-packages/requests/models.py:1026\u001b[39m, in \u001b[36mResponse.raise_for_status\u001b[39m\u001b[34m(self)\u001b[39m\n\u001b[32m   1021\u001b[39m     http_error_msg = (\n\u001b[32m   1022\u001b[39m         \u001b[33mf\u001b[39m\u001b[33m\"\u001b[39m\u001b[38;5;132;01m{\u001b[39;00m\u001b[38;5;28mself\u001b[39m.status_code\u001b[38;5;132;01m}\u001b[39;00m\u001b[33m Server Error: \u001b[39m\u001b[38;5;132;01m{\u001b[39;00mreason\u001b[38;5;132;01m}\u001b[39;00m\u001b[33m for url: \u001b[39m\u001b[38;5;132;01m{\u001b[39;00m\u001b[38;5;28mself\u001b[39m.url\u001b[38;5;132;01m}\u001b[39;00m\u001b[33m\"\u001b[39m\n\u001b[32m   1023\u001b[39m     )\n\u001b[32m   1025\u001b[39m \u001b[38;5;28;01mif\u001b[39;00m http_error_msg:\n\u001b[32m-> \u001b[39m\u001b[32m1026\u001b[39m     \u001b[38;5;28;01mraise\u001b[39;00m HTTPError(http_error_msg, response=\u001b[38;5;28mself\u001b[39m)\n",
      "\u001b[31mHTTPError\u001b[39m: 422 Client Error: Unprocessable Entity for url: https://data.etabus.gov.hk/v1/transport/kmb/bus-stop"
     ]
    }
   ],
   "source": [
    "# Example: Fetch KMB Bus Stop Data from data.gov.hk API\n",
    "import requests\n",
    "import pandas as pd\n",
    "\n",
    "# KMB Bus Stop API endpoint\n",
    "url = \"https://data.etabus.gov.hk/v1/transport/kmb/bus-stop\"\n",
    "\n",
    "# Fetch data\n",
    "response = requests.get(url)\n",
    "response.raise_for_status()  # Raise error if request failed\n",
    "\n",
    "data = response.json()[\"data\"]\n",
    "\n",
    "# Convert to DataFrame\n",
    "stops_df = pd.DataFrame(data)\n",
    "\n",
    "# Show first 5 rows\n",
    "stops_df.head()"
   ]
  },
  {
   "cell_type": "code",
   "execution_count": null,
   "id": "414ba1fc",
   "metadata": {},
   "outputs": [],
   "source": []
  }
 ],
 "metadata": {
  "kernelspec": {
   "display_name": "Python 3",
   "language": "python",
   "name": "python3"
  },
  "language_info": {
   "codemirror_mode": {
    "name": "ipython",
    "version": 3
   },
   "file_extension": ".py",
   "mimetype": "text/x-python",
   "name": "python",
   "nbconvert_exporter": "python",
   "pygments_lexer": "ipython3",
   "version": "3.12.1"
  }
 },
 "nbformat": 4,
 "nbformat_minor": 5
}
